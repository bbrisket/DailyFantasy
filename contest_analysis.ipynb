{
 "cells": [
  {
   "cell_type": "code",
   "execution_count": 1,
   "metadata": {},
   "outputs": [],
   "source": [
    "import pandas as pd\n",
    "import matplotlib as plt\n",
    "import seaborn as sns"
   ]
  },
  {
   "cell_type": "code",
   "execution_count": 2,
   "metadata": {},
   "outputs": [
    {
     "data": {
      "text/html": [
       "<div>\n",
       "<style scoped>\n",
       "    .dataframe tbody tr th:only-of-type {\n",
       "        vertical-align: middle;\n",
       "    }\n",
       "\n",
       "    .dataframe tbody tr th {\n",
       "        vertical-align: top;\n",
       "    }\n",
       "\n",
       "    .dataframe thead th {\n",
       "        text-align: right;\n",
       "    }\n",
       "</style>\n",
       "<table border=\"1\" class=\"dataframe\">\n",
       "  <thead>\n",
       "    <tr style=\"text-align: right;\">\n",
       "      <th></th>\n",
       "      <th>Name</th>\n",
       "      <th>Link</th>\n",
       "      <th>Prize Pool</th>\n",
       "      <th>Buy In</th>\n",
       "      <th>Top Prize</th>\n",
       "      <th>Max Entries</th>\n",
       "      <th>Entries</th>\n",
       "      <th>Cash Line</th>\n",
       "      <th>Winner</th>\n",
       "      <th>Winning Score</th>\n",
       "      <th>Week</th>\n",
       "    </tr>\n",
       "  </thead>\n",
       "  <tbody>\n",
       "    <tr>\n",
       "      <th>0</th>\n",
       "      <td>NFL $5M Roman Fantasy Football Millionaire [$1...</td>\n",
       "      <td>Contest</td>\n",
       "      <td>5000000.0</td>\n",
       "      <td>20.0</td>\n",
       "      <td>1000000</td>\n",
       "      <td>150</td>\n",
       "      <td>281924</td>\n",
       "      <td>180.34</td>\n",
       "      <td>chalk</td>\n",
       "      <td>301.18</td>\n",
       "      <td>Week 1</td>\n",
       "    </tr>\n",
       "    <tr>\n",
       "      <th>1</th>\n",
       "      <td>NFL $1.5M Wildcat [$250K to 1st]</td>\n",
       "      <td>Contest</td>\n",
       "      <td>1500000.0</td>\n",
       "      <td>333.0</td>\n",
       "      <td>250000</td>\n",
       "      <td>150</td>\n",
       "      <td>5005</td>\n",
       "      <td>188.76</td>\n",
       "      <td>fjbourne</td>\n",
       "      <td>271.78</td>\n",
       "      <td>Week 1</td>\n",
       "    </tr>\n",
       "    <tr>\n",
       "      <th>2</th>\n",
       "      <td>NFL $600K Luxury Box [$150K to 1st]</td>\n",
       "      <td>Contest</td>\n",
       "      <td>600000.0</td>\n",
       "      <td>2120.0</td>\n",
       "      <td>150000</td>\n",
       "      <td>9</td>\n",
       "      <td>300</td>\n",
       "      <td>204.46</td>\n",
       "      <td>BrandonAdams</td>\n",
       "      <td>257.70</td>\n",
       "      <td>Week 1</td>\n",
       "    </tr>\n",
       "    <tr>\n",
       "      <th>3</th>\n",
       "      <td>NFL $500K Week 1 Heavy Hitter [$200K to 1st]</td>\n",
       "      <td>Contest</td>\n",
       "      <td>500000.0</td>\n",
       "      <td>26200.0</td>\n",
       "      <td>200000</td>\n",
       "      <td>1</td>\n",
       "      <td>19</td>\n",
       "      <td>223.86</td>\n",
       "      <td>dandydon</td>\n",
       "      <td>250.68</td>\n",
       "      <td>Week 1</td>\n",
       "    </tr>\n",
       "    <tr>\n",
       "      <th>4</th>\n",
       "      <td>NFL $500K Slant [$50K to 1st]</td>\n",
       "      <td>Contest</td>\n",
       "      <td>500000.0</td>\n",
       "      <td>9.0</td>\n",
       "      <td>50000</td>\n",
       "      <td>150</td>\n",
       "      <td>65359</td>\n",
       "      <td>186.88</td>\n",
       "      <td>soapmeas</td>\n",
       "      <td>281.16</td>\n",
       "      <td>Week 1</td>\n",
       "    </tr>\n",
       "  </tbody>\n",
       "</table>\n",
       "</div>"
      ],
      "text/plain": [
       "                                                Name     Link  Prize Pool  \\\n",
       "0  NFL $5M Roman Fantasy Football Millionaire [$1...  Contest   5000000.0   \n",
       "1                   NFL $1.5M Wildcat [$250K to 1st]  Contest   1500000.0   \n",
       "2                NFL $600K Luxury Box [$150K to 1st]  Contest    600000.0   \n",
       "3       NFL $500K Week 1 Heavy Hitter [$200K to 1st]  Contest    500000.0   \n",
       "4                      NFL $500K Slant [$50K to 1st]  Contest    500000.0   \n",
       "\n",
       "    Buy In  Top Prize  Max Entries  Entries  Cash Line        Winner  \\\n",
       "0     20.0    1000000          150   281924     180.34         chalk   \n",
       "1    333.0     250000          150     5005     188.76      fjbourne   \n",
       "2   2120.0     150000            9      300     204.46  BrandonAdams   \n",
       "3  26200.0     200000            1       19     223.86      dandydon   \n",
       "4      9.0      50000          150    65359     186.88      soapmeas   \n",
       "\n",
       "   Winning Score    Week  \n",
       "0         301.18  Week 1  \n",
       "1         271.78  Week 1  \n",
       "2         257.70  Week 1  \n",
       "3         250.68  Week 1  \n",
       "4         281.16  Week 1  "
      ]
     },
     "execution_count": 2,
     "metadata": {},
     "output_type": "execute_result"
    }
   ],
   "source": [
    "df = pd.read_csv(\"DK_NFL_contest_data_2018_clean.csv\")\n",
    "df.head()"
   ]
  },
  {
   "cell_type": "markdown",
   "metadata": {},
   "source": [
    "# General contest"
   ]
  },
  {
   "cell_type": "code",
   "execution_count": 3,
   "metadata": {},
   "outputs": [
    {
     "data": {
      "text/plain": [
       "<seaborn.axisgrid.JointGrid at 0x11d6b3b00>"
      ]
     },
     "execution_count": 3,
     "metadata": {},
     "output_type": "execute_result"
    },
    {
     "data": {
      "image/png": "[encoded data removed]",
      "text/plain": [
       "<Figure size 432x432 with 3 Axes>"
      ]
     },
     "metadata": {
      "needs_background": "light"
     },
     "output_type": "display_data"
    }
   ],
   "source": [
    "sns.jointplot(x=\"Buy In\", y=\"Cash Line\", data=df, xlim=(0,1250), kind=\"reg\")"
   ]
  },
  {
   "cell_type": "code",
   "execution_count": 4,
   "metadata": {},
   "outputs": [
    {
     "data": {
      "text/plain": [
       "<seaborn.axisgrid.JointGrid at 0x11ffd1470>"
      ]
     },
     "execution_count": 4,
     "metadata": {},
     "output_type": "execute_result"
    },
    {
     "data": {
      "image/png": "[encoded data removed]",
      "text/plain": [
       "<Figure size 432x432 with 3 Axes>"
      ]
     },
     "metadata": {
      "needs_background": "light"
     },
     "output_type": "display_data"
    }
   ],
   "source": [
    "sns.jointplot(x=\"Buy In\", y=\"Winning Score\", data=df, xlim=(0,1250), kind=\"kde\")"
   ]
  },
  {
   "cell_type": "code",
   "execution_count": 5,
   "metadata": {},
   "outputs": [
    {
     "data": {
      "text/plain": [
       "<matplotlib.axes._subplots.AxesSubplot at 0x10b1d37b8>"
      ]
     },
     "execution_count": 5,
     "metadata": {},
     "output_type": "execute_result"
    },
    {
     "data": {
      "image/png": "[encoded data removed]",
      "text/plain": [
       "<Figure size 1152x576 with 1 Axes>"
      ]
     },
     "metadata": {
      "needs_background": "light"
     },
     "output_type": "display_data"
    }
   ],
   "source": [
    "fig, axis = plt.pyplot.subplots()\n",
    "fig.set_size_inches(16,8)\n",
    "\n",
    "sns.boxplot(x=\"Week\", y=\"Cash Line\", data=df, ax = axis)"
   ]
  },
  {
   "cell_type": "markdown",
   "metadata": {},
   "source": [
    "# Multiplier contests\n",
    "For a contest with a multiplier-styled payout structure, suppose that $m$ is the multiplier, $b$ is buy-in cost, $n$ is number of contests participated in, and $k$ is winrate. Then to earn profit, one needs to have $nb<(mb-b)\\cdot k$, so that $k > \\dfrac{n}{m-1}$. Therefore we want to build lineups that fall within the top $(1-k)$-th fraction of double-up contest cash lines.\n",
    "\n",
    "### Double-up"
   ]
  },
  {
   "cell_type": "code",
   "execution_count": 6,
   "metadata": {},
   "outputs": [
    {
     "data": {
      "text/html": [
       "<div>\n",
       "<style scoped>\n",
       "    .dataframe tbody tr th:only-of-type {\n",
       "        vertical-align: middle;\n",
       "    }\n",
       "\n",
       "    .dataframe tbody tr th {\n",
       "        vertical-align: top;\n",
       "    }\n",
       "\n",
       "    .dataframe thead th {\n",
       "        text-align: right;\n",
       "    }\n",
       "</style>\n",
       "<table border=\"1\" class=\"dataframe\">\n",
       "  <thead>\n",
       "    <tr style=\"text-align: right;\">\n",
       "      <th></th>\n",
       "      <th>Name</th>\n",
       "      <th>Link</th>\n",
       "      <th>Prize Pool</th>\n",
       "      <th>Buy In</th>\n",
       "      <th>Top Prize</th>\n",
       "      <th>Max Entries</th>\n",
       "      <th>Entries</th>\n",
       "      <th>Cash Line</th>\n",
       "      <th>Winner</th>\n",
       "      <th>Winning Score</th>\n",
       "      <th>Week</th>\n",
       "    </tr>\n",
       "  </thead>\n",
       "  <tbody>\n",
       "    <tr>\n",
       "      <th>6</th>\n",
       "      <td>NFL MASSIVE $25 Double Up</td>\n",
       "      <td>Contest</td>\n",
       "      <td>400000.0</td>\n",
       "      <td>25.0</td>\n",
       "      <td>50</td>\n",
       "      <td>150</td>\n",
       "      <td>16950</td>\n",
       "      <td>204.82</td>\n",
       "      <td>youdacao</td>\n",
       "      <td>283.48</td>\n",
       "      <td>Week 1</td>\n",
       "    </tr>\n",
       "    <tr>\n",
       "      <th>8</th>\n",
       "      <td>NFL MASSIVE $5 Double Up</td>\n",
       "      <td>Contest</td>\n",
       "      <td>150000.0</td>\n",
       "      <td>5.0</td>\n",
       "      <td>10</td>\n",
       "      <td>150</td>\n",
       "      <td>34482</td>\n",
       "      <td>203.02</td>\n",
       "      <td>youdacao</td>\n",
       "      <td>283.48</td>\n",
       "      <td>Week 1</td>\n",
       "    </tr>\n",
       "    <tr>\n",
       "      <th>12</th>\n",
       "      <td>$10M Fantasy Football World Championship Doubl...</td>\n",
       "      <td>Contest</td>\n",
       "      <td>129222.2</td>\n",
       "      <td>500.0</td>\n",
       "      <td>1000</td>\n",
       "      <td>9</td>\n",
       "      <td>270</td>\n",
       "      <td>225.86</td>\n",
       "      <td>rayofhope</td>\n",
       "      <td>254.26</td>\n",
       "      <td>Week 1</td>\n",
       "    </tr>\n",
       "    <tr>\n",
       "      <th>16</th>\n",
       "      <td>NFL MASSIVE $25 Double Up [Single Entry]</td>\n",
       "      <td>Contest</td>\n",
       "      <td>100000.0</td>\n",
       "      <td>25.0</td>\n",
       "      <td>50</td>\n",
       "      <td>1</td>\n",
       "      <td>4597</td>\n",
       "      <td>186.76</td>\n",
       "      <td>PetrGibbons</td>\n",
       "      <td>272.18</td>\n",
       "      <td>Week 1</td>\n",
       "    </tr>\n",
       "    <tr>\n",
       "      <th>17</th>\n",
       "      <td>NFL MASSIVE $5 Double Up</td>\n",
       "      <td>Contest</td>\n",
       "      <td>100000.0</td>\n",
       "      <td>5.0</td>\n",
       "      <td>10</td>\n",
       "      <td>150</td>\n",
       "      <td>22988</td>\n",
       "      <td>206.42</td>\n",
       "      <td>youdacao</td>\n",
       "      <td>283.48</td>\n",
       "      <td>Week 1</td>\n",
       "    </tr>\n",
       "  </tbody>\n",
       "</table>\n",
       "</div>"
      ],
      "text/plain": [
       "                                                 Name     Link  Prize Pool  \\\n",
       "6                           NFL MASSIVE $25 Double Up  Contest    400000.0   \n",
       "8                            NFL MASSIVE $5 Double Up  Contest    150000.0   \n",
       "12  $10M Fantasy Football World Championship Doubl...  Contest    129222.2   \n",
       "16           NFL MASSIVE $25 Double Up [Single Entry]  Contest    100000.0   \n",
       "17                           NFL MASSIVE $5 Double Up  Contest    100000.0   \n",
       "\n",
       "    Buy In  Top Prize  Max Entries  Entries  Cash Line       Winner  \\\n",
       "6     25.0         50          150    16950     204.82     youdacao   \n",
       "8      5.0         10          150    34482     203.02     youdacao   \n",
       "12   500.0       1000            9      270     225.86    rayofhope   \n",
       "16    25.0         50            1     4597     186.76  PetrGibbons   \n",
       "17     5.0         10          150    22988     206.42     youdacao   \n",
       "\n",
       "    Winning Score    Week  \n",
       "6          283.48  Week 1  \n",
       "8          283.48  Week 1  \n",
       "12         254.26  Week 1  \n",
       "16         272.18  Week 1  \n",
       "17         283.48  Week 1  "
      ]
     },
     "execution_count": 6,
     "metadata": {},
     "output_type": "execute_result"
    }
   ],
   "source": [
    "doubleUp = df[df[\"Name\"].apply(lambda x: \"double\" in x.lower())]\n",
    "doubleUp.head()"
   ]
  },
  {
   "cell_type": "code",
   "execution_count": 7,
   "metadata": {},
   "outputs": [
    {
     "data": {
      "text/plain": [
       "<matplotlib.axes._subplots.AxesSubplot at 0x11dc180b8>"
      ]
     },
     "execution_count": 7,
     "metadata": {},
     "output_type": "execute_result"
    },
    {
     "data": {
      "image/png": "[encoded data removed]",
      "text/plain": [
       "<Figure size 432x288 with 1 Axes>"
      ]
     },
     "metadata": {
      "needs_background": "light"
     },
     "output_type": "display_data"
    }
   ],
   "source": [
    "sns.boxplot(x=doubleUp[\"Cash Line\"])"
   ]
  },
  {
   "cell_type": "code",
   "execution_count": 11,
   "metadata": {},
   "outputs": [
    {
     "data": {
      "text/plain": [
       "count    555.000000\n",
       "mean     152.279279\n",
       "std       22.381722\n",
       "min       35.000000\n",
       "25%      137.250000\n",
       "50%      146.100000\n",
       "75%      158.570000\n",
       "max      225.860000\n",
       "Name: Cash Line, dtype: float64"
      ]
     },
     "execution_count": 11,
     "metadata": {},
     "output_type": "execute_result"
    }
   ],
   "source": [
    "doubleUp[\"Cash Line\"].describe()"
   ]
  },
  {
   "cell_type": "markdown",
   "metadata": {},
   "source": [
    "Because there are nine players to a DraftKings lineup, the average player on a winning lineup should fall somewhere within the following:"
   ]
  },
  {
   "cell_type": "code",
   "execution_count": 12,
   "metadata": {},
   "outputs": [
    {
     "data": {
      "text/plain": [
       "count    555.000000\n",
       "mean      16.919920\n",
       "std        2.486858\n",
       "min        3.888889\n",
       "25%       15.250000\n",
       "50%       16.233333\n",
       "75%       17.618889\n",
       "max       25.095556\n",
       "Name: Cash Line, dtype: float64"
      ]
     },
     "execution_count": 12,
     "metadata": {},
     "output_type": "execute_result"
    }
   ],
   "source": [
    "(doubleUp[\"Cash Line\"]/9).describe()"
   ]
  },
  {
   "cell_type": "code",
   "execution_count": 9,
   "metadata": {},
   "outputs": [
    {
     "data": {
      "text/plain": [
       "<matplotlib.axes._subplots.AxesSubplot at 0x11dc81be0>"
      ]
     },
     "execution_count": 9,
     "metadata": {},
     "output_type": "execute_result"
    },
    {
     "data": {
      "image/png": "[encoded data removed]",
      "text/plain": [
       "<Figure size 1152x576 with 1 Axes>"
      ]
     },
     "metadata": {
      "needs_background": "light"
     },
     "output_type": "display_data"
    }
   ],
   "source": [
    "fig, axis = plt.pyplot.subplots()\n",
    "fig.set_size_inches(16,8)\n",
    "\n",
    "sns.boxplot(x=\"Week\", y=\"Cash Line\", data=doubleUp, ax = axis)"
   ]
  },
  {
   "cell_type": "code",
   "execution_count": null,
   "metadata": {},
   "outputs": [],
   "source": []
  }
 ],
 "metadata": {
  "kernelspec": {
   "display_name": "Python 3",
   "language": "python",
   "name": "python3"
  },
  "language_info": {
   "codemirror_mode": {
    "name": "ipython",
    "version": 3
   },
   "file_extension": ".py",
   "mimetype": "text/x-python",
   "name": "python",
   "nbconvert_exporter": "python",
   "pygments_lexer": "ipython3",
   "version": "3.7.2"
  }
 },
 "nbformat": 4,
 "nbformat_minor": 2
}
